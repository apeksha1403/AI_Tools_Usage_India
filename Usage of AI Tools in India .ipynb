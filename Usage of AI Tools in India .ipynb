{
 "cells": [
  {
   "cell_type": "code",
   "execution_count": 1,
   "id": "d43d26bb-859e-4141-8cf9-ffe51a6d1956",
   "metadata": {},
   "outputs": [],
   "source": [
    "import pandas as pd\n"
   ]
  },
  {
   "cell_type": "code",
   "execution_count": 9,
   "id": "f17b2a0d-ac31-4570-84d1-1d21c0dfe6a2",
   "metadata": {},
   "outputs": [
    {
     "name": "stdout",
     "output_type": "stream",
     "text": [
      "  Student_Name                                      College_Name       Stream  \\\n",
      "0        Aarav       Indian Institute of Information Technology   Engineering   \n",
      "1       Vivaan   Government Ram Bhajan Rai NES College, Jashpur      Commerce   \n",
      "2       Aditya     Dolphin PG Institute of BioMedical & Natural       Science   \n",
      "3       Vihaan  Shaheed Rajguru College of Applied Sciences for          Arts   \n",
      "4        Arjun                   Roorkee College of Engineering       Science   \n",
      "\n",
      "   Year_of_Study AI_Tools_Used  Daily_Usage_Hours  \\\n",
      "0              4        Gemini                0.9   \n",
      "1              2       ChatGPT                3.4   \n",
      "2              2       Copilot                3.6   \n",
      "3              2       Copilot                2.9   \n",
      "4              1        Gemini                0.9   \n",
      "\n",
      "                       Use_Cases  Trust_in_AI_Tools  Impact_on_Grades  \\\n",
      "0       Assignments, Coding Help                  2                 2   \n",
      "1            Learning new topics                  3                -3   \n",
      "2         MCQ Practice, Projects                  5                 0   \n",
      "3                Content Writing                  5                 2   \n",
      "4  Doubt Solving, Resume Writing                  1                 3   \n",
      "\n",
      "  Do_Professors_Allow_Use Preferred_AI_Tool  Awareness_Level  \\\n",
      "0                      No           Copilot                9   \n",
      "1                     Yes             Other                6   \n",
      "2                      No            Gemini                1   \n",
      "3                     Yes            Gemini                5   \n",
      "4                     Yes             Other                8   \n",
      "\n",
      "  Willing_to_Pay_for_Access          State Device_Used Internet_Access  \n",
      "0                       Yes  Uttar pradesh      Mobile            Poor  \n",
      "1                        No   Chhattisgarh      Laptop            Poor  \n",
      "2                        No    Uttarakhand      Tablet            Poor  \n",
      "3                        No      Delhi ncr      Laptop            High  \n",
      "4                       Yes    Uttarakhand      Laptop          Medium  \n"
     ]
    }
   ],
   "source": [
    "df = pd.read_csv(r'E:\\Students.csv')\n",
    "print(data.head())\n",
    "\n"
   ]
  },
  {
   "cell_type": "code",
   "execution_count": 11,
   "id": "05ed8cda-5179-49f0-b57c-222a1c718d07",
   "metadata": {},
   "outputs": [
    {
     "name": "stdout",
     "output_type": "stream",
     "text": [
      "<class 'pandas.core.frame.DataFrame'>\n",
      "RangeIndex: 3614 entries, 0 to 3613\n",
      "Data columns (total 16 columns):\n",
      " #   Column                     Non-Null Count  Dtype  \n",
      "---  ------                     --------------  -----  \n",
      " 0   Student_Name               3614 non-null   object \n",
      " 1   College_Name               3614 non-null   object \n",
      " 2   Stream                     3614 non-null   object \n",
      " 3   Year_of_Study              3614 non-null   int64  \n",
      " 4   AI_Tools_Used              3614 non-null   object \n",
      " 5   Daily_Usage_Hours          3614 non-null   float64\n",
      " 6   Use_Cases                  3614 non-null   object \n",
      " 7   Trust_in_AI_Tools          3614 non-null   int64  \n",
      " 8   Impact_on_Grades           3614 non-null   int64  \n",
      " 9   Do_Professors_Allow_Use    3614 non-null   object \n",
      " 10  Preferred_AI_Tool          3614 non-null   object \n",
      " 11  Awareness_Level            3614 non-null   int64  \n",
      " 12  Willing_to_Pay_for_Access  3614 non-null   object \n",
      " 13  State                      2000 non-null   object \n",
      " 14  Device_Used                3614 non-null   object \n",
      " 15  Internet_Access            3614 non-null   object \n",
      "dtypes: float64(1), int64(4), object(11)\n",
      "memory usage: 451.9+ KB\n",
      "None\n",
      "       Year_of_Study  Daily_Usage_Hours  Trust_in_AI_Tools  Impact_on_Grades  \\\n",
      "count    3614.000000        3614.000000        3614.000000       3614.000000   \n",
      "mean        2.472883           2.559685           3.023243          0.003320   \n",
      "std         1.107912           1.213319           1.436934          2.370706   \n",
      "min         1.000000           0.500000           1.000000         -5.000000   \n",
      "25%         2.000000           1.500000           2.000000         -2.000000   \n",
      "50%         2.000000           2.600000           3.000000          0.000000   \n",
      "75%         3.000000           3.600000           4.000000          2.000000   \n",
      "max         4.000000           5.000000           5.000000          5.000000   \n",
      "\n",
      "       Awareness_Level  \n",
      "count      3614.000000  \n",
      "mean          5.828445  \n",
      "std           2.925481  \n",
      "min           1.000000  \n",
      "25%           3.000000  \n",
      "50%           6.000000  \n",
      "75%           8.000000  \n",
      "max          10.000000  \n"
     ]
    }
   ],
   "source": [
    "print(data.info())\n",
    "print(data.describe())\n"
   ]
  },
  {
   "cell_type": "code",
   "execution_count": 12,
   "id": "a52601ec-373b-469f-8f66-202264bcb319",
   "metadata": {},
   "outputs": [
    {
     "name": "stdout",
     "output_type": "stream",
     "text": [
      "Student_Name                    0\n",
      "College_Name                    0\n",
      "Stream                          0\n",
      "Year_of_Study                   0\n",
      "AI_Tools_Used                   0\n",
      "Daily_Usage_Hours               0\n",
      "Use_Cases                       0\n",
      "Trust_in_AI_Tools               0\n",
      "Impact_on_Grades                0\n",
      "Do_Professors_Allow_Use         0\n",
      "Preferred_AI_Tool               0\n",
      "Awareness_Level                 0\n",
      "Willing_to_Pay_for_Access       0\n",
      "State                        1614\n",
      "Device_Used                     0\n",
      "Internet_Access                 0\n",
      "dtype: int64\n"
     ]
    }
   ],
   "source": [
    "print(data.isnull().sum())\n"
   ]
  },
  {
   "cell_type": "code",
   "execution_count": 13,
   "id": "ac2ac290-f712-4075-9a2f-ac3c3f754a3f",
   "metadata": {},
   "outputs": [],
   "source": [
    "df.columns = df.columns.str.strip().str.replace(\" \", \"_\")\n"
   ]
  },
  {
   "cell_type": "code",
   "execution_count": 14,
   "id": "b8c1b0cd-ccaa-499d-8a6a-be663f52e7f9",
   "metadata": {},
   "outputs": [],
   "source": [
    "df['State'] = df['State'].fillna('Unknown')\n"
   ]
  },
  {
   "cell_type": "code",
   "execution_count": 15,
   "id": "7f5696a7-4e02-494c-b096-3ec4a8cdef3e",
   "metadata": {},
   "outputs": [
    {
     "name": "stdout",
     "output_type": "stream",
     "text": [
      "AI_Tools_Used\n",
      "ChatGPT                     626\n",
      "Gemini                      612\n",
      "Copilot                     585\n",
      "ChatGPT, Copilot            505\n",
      "ChatGPT, Gemini, Copilot    426\n",
      "Gemini, Midjourney          371\n",
      "Claude                      171\n",
      "Other                       167\n",
      "Bard                        151\n",
      "Name: count, dtype: int64\n"
     ]
    }
   ],
   "source": [
    "print(df['AI_Tools_Used'].value_counts())\n"
   ]
  },
  {
   "cell_type": "code",
   "execution_count": 16,
   "id": "aabde284-452e-4dfe-9726-5b8d4b18dc3e",
   "metadata": {},
   "outputs": [
    {
     "name": "stdout",
     "output_type": "stream",
     "text": [
      "AI_Tools_Used\n",
      "Other                       2.732934\n",
      "Bard                        2.721854\n",
      "Gemini                      2.683333\n",
      "Claude                      2.671345\n",
      "ChatGPT                     2.620128\n",
      "Gemini, Midjourney          2.592453\n",
      "Copilot                     2.451966\n",
      "ChatGPT, Gemini, Copilot    2.441549\n",
      "ChatGPT, Copilot            2.391683\n",
      "Name: Daily_Usage_Hours, dtype: float64\n"
     ]
    }
   ],
   "source": [
    "#Average Daily Usage per AI Tool\n",
    "avg_usage = df.groupby('AI_Tools_Used')['Daily_Usage_Hours'].mean().sort_values(ascending=False)\n",
    "print(avg_usage)\n"
   ]
  },
  {
   "cell_type": "code",
   "execution_count": 17,
   "id": "e3d9ea5e-4467-43bc-b678-d6619ba79a06",
   "metadata": {},
   "outputs": [],
   "source": [
    "import pandas as pd\n",
    "import matplotlib.pyplot as plt\n",
    "import seaborn as sns\n"
   ]
  },
  {
   "cell_type": "code",
   "execution_count": 18,
   "id": "02d58528-3a9d-41b4-8ca0-bf555a400984",
   "metadata": {},
   "outputs": [
    {
     "data": {
      "image/png": "[encoded data removed]",
      "text/plain": [
       "<Figure size 1000x600 with 1 Axes>"
      ]
     },
     "metadata": {},
     "output_type": "display_data"
    }
   ],
   "source": [
    "# AI Tool Usage Count\n",
    "plt.figure(figsize=(10,6))\n",
    "sns.countplot(y='AI_Tools_Used', data=df, order=df['AI_Tools_Used'].value_counts().index, color='#B39DDB')\n",
    "plt.title(\"Most Used AI Tools by Indian Students (2025)\", fontsize=14)\n",
    "plt.xlabel(\"Number of Students\")\n",
    "plt.ylabel(\"AI Tools\")\n",
    "plt.tight_layout()\n",
    "plt.show()\n"
   ]
  },
  {
   "cell_type": "code",
   "execution_count": 39,
   "id": "2e62881b-31f9-48cc-8b9f-6999a9ce9e2a",
   "metadata": {},
   "outputs": [
    {
     "data": {
      "image/png": "[encoded data removed]",
      "text/plain": [
       "<Figure size 800x500 with 1 Axes>"
      ]
     },
     "metadata": {},
     "output_type": "display_data"
    }
   ],
   "source": [
    "import matplotlib.pyplot as plt\n",
    "import seaborn as sns\n",
    "\n",
    "plt.figure(figsize=(8, 5))\n",
    "sns.boxplot(data=df, x='AI_Tools_Used', y='Impact_on_Grades', color='skyblue')\n",
    "plt.title(\"Impact on Grades by AI Tool Usage\")\n",
    "plt.xticks(rotation=45)\n",
    "plt.tight_layout()\n",
    "plt.show()\n"
   ]
  },
  {
   "cell_type": "code",
   "execution_count": 45,
   "id": "ea1177e1-42fc-40a3-bb6f-136e4b64a312",
   "metadata": {},
   "outputs": [
    {
     "data": {
      "image/png": "[encoded data removed]",
      "text/plain": [
       "<Figure size 800x600 with 1 Axes>"
      ]
     },
     "metadata": {},
     "output_type": "display_data"
    }
   ],
   "source": [
    "import matplotlib.pyplot as plt\n",
    "\n",
    "# Counts and labels\n",
    "counts = df['AI_Tools_Used'].value_counts()\n",
    "labels_full = counts.index          # full names for legend\n",
    "sizes       = counts.values\n",
    "colors      = plt.cm.Pastel2.colors # or any palette you prefer\n",
    "\n",
    "fig, ax = plt.subplots(figsize=(8, 6))\n",
    "\n",
    "# --- draw donut ---\n",
    "wedges, _ = ax.pie(\n",
    "    sizes,\n",
    "    startangle=90,\n",
    "    colors=colors,\n",
    "    wedgeprops=dict(width=0.6),\n",
    "    labels=None          # we’ll add % inside instead\n",
    ")\n",
    "\n",
    "# --- put ONLY % or count inside each slice ---\n",
    "for w, s in zip(wedges, sizes):\n",
    "    angle = (w.theta2 + w.theta1) / 2\n",
    "    x, y  = 0.55 * np.cos(np.deg2rad(angle)), 0.55 * np.sin(np.deg2rad(angle))\n",
    "    ax.text(x, y, f'{s/sum(sizes)*100:.1f}%', ha='center', va='center',\n",
    "            fontsize=9, weight='bold', color='grey')\n",
    "\n",
    "# --- add legend with full labels outside ---\n",
    "ax.legend(wedges, labels_full,\n",
    "          title=\"AI Tools Used\",\n",
    "          loc=\"center left\",\n",
    "          bbox_to_anchor=(1.05, 0.5),\n",
    "          frameon=False)\n",
    "\n",
    "ax.set_title(\"AI Tool Usage Among Students (2025)\", fontsize=10)\n",
    "plt.tight_layout()\n",
    "plt.show()\n"
   ]
  },
  {
   "cell_type": "code",
   "execution_count": 48,
   "id": "bb8992e3-1b97-4184-b3fb-d08981f87e7d",
   "metadata": {},
   "outputs": [],
   "source": [
    "import sqlite3\n",
    "import pandas as pd\n"
   ]
  },
  {
   "cell_type": "code",
   "execution_count": 49,
   "id": "cac49f83-12f8-4c45-a742-09a53c7ffe62",
   "metadata": {},
   "outputs": [],
   "source": [
    "conn = sqlite3.connect(\"AI_tools_usage.db\")  # creates the file if it doesn't exist\n",
    "cursor = conn.cursor()\n"
   ]
  },
  {
   "cell_type": "code",
   "execution_count": 50,
   "id": "f3301905-4f16-4f03-bfa7-fe087c693476",
   "metadata": {},
   "outputs": [],
   "source": [
    "cursor.execute(\"\"\"\n",
    "CREATE TABLE IF NOT EXISTS student_ai_usage (\n",
    "    Student_Name TEXT,\n",
    "    College_Name TEXT,\n",
    "    Stream TEXT,\n",
    "    Year_of_Study INTEGER,\n",
    "    AI_Tools_Used TEXT,\n",
    "    Daily_Usage_Hours REAL,\n",
    "    Use_Cases TEXT,\n",
    "    Trust_in_AI_Tools INTEGER,\n",
    "    Impact_on_Grades INTEGER,\n",
    "    Do_Professors_Allow_Use TEXT,\n",
    "    Preferred_AI_Tool TEXT,\n",
    "    Awareness_Level INTEGER,\n",
    "    Willing_to_Pay_for_Access TEXT,\n",
    "    State TEXT,\n",
    "    Device_Used TEXT,\n",
    "    Internet_Access TEXT\n",
    ")\n",
    "\"\"\")\n",
    "conn.commit()\n"
   ]
  },
  {
   "cell_type": "code",
   "execution_count": 52,
   "id": "8040c89a-0b0b-468a-8890-2bb5f2046236",
   "metadata": {},
   "outputs": [],
   "source": [
    "# Save to a new CSV file for SQL use\n",
    "df.to_csv(\"AI_tool_usage_cleaned.csv\", index=False)\n"
   ]
  },
  {
   "cell_type": "code",
   "execution_count": 53,
   "id": "ab5525d0-5b2d-44a3-b2fc-0a17568792ab",
   "metadata": {},
   "outputs": [
    {
     "data": {
      "text/plain": [
       "3614"
      ]
     },
     "execution_count": 53,
     "metadata": {},
     "output_type": "execute_result"
    }
   ],
   "source": [
    "import pandas as pd\n",
    "import sqlite3\n",
    "\n",
    "# Load the cleaned CSV file\n",
    "df = pd.read_csv(\"AI_tool_usage_cleaned.csv\")\n",
    "\n",
    "# Save to a new SQLite database with a unique name\n",
    "conn = sqlite3.connect(\"ai_tool_usage_fresh.db\")  # <-- New database file\n",
    "\n",
    "# Save the data to a new table\n",
    "df.to_sql(\"student_ai_usage\", conn, if_exists=\"replace\", index=False)\n"
   ]
  },
  {
   "cell_type": "code",
   "execution_count": 60,
   "id": "34e8b61e-e779-4dd1-9b5b-d058b3bcc998",
   "metadata": {},
   "outputs": [
    {
     "name": "stdout",
     "output_type": "stream",
     "text": [
      "  Preferred_AI_Tool  Usage_Count\n",
      "0           ChatGPT          859\n",
      "1            Gemini          854\n",
      "2           Copilot          836\n",
      "3             Other          757\n",
      "4            Claude          157\n",
      "5              Bard          151\n"
     ]
    }
   ],
   "source": [
    "#Top 10 Most Used AI Tools\n",
    "query1 = \"\"\"\n",
    "SELECT Preferred_AI_Tool, COUNT(*) AS Usage_Count\n",
    "FROM student_ai_usage\n",
    "GROUP BY Preferred_AI_Tool\n",
    "ORDER BY Usage_Count DESC\n",
    "LIMIT 10;\n",
    "\"\"\"\n",
    "\n",
    "# Step 5: Execute the query and load results into DataFrame\n",
    "df_top_tools = pd.read_sql_query(query1, conn)\n",
    "print(df_top_tools)\n",
    "\n"
   ]
  },
  {
   "cell_type": "code",
   "execution_count": 59,
   "id": "77d20b2d-6d96-4d7c-9f4f-05bf8bed0e7c",
   "metadata": {},
   "outputs": [
    {
     "name": "stdout",
     "output_type": "stream",
     "text": [
      "  Preferred_AI_Tool  Avg_Trust_Score  User_Count\n",
      "0           Copilot             3.12         836\n",
      "1            Gemini             3.06         854\n",
      "2             Other             2.99         757\n",
      "3           ChatGPT             2.96         859\n",
      "4              Bard             2.94         151\n",
      "5            Claude             2.91         157\n"
     ]
    }
   ],
   "source": [
    "#Average Trust Score per AI Tool (Ranked)\n",
    "query2 = \"\"\"\n",
    "SELECT Preferred_AI_Tool, \n",
    "       ROUND(AVG(Trust_in_AI_Tools), 2) AS Avg_Trust_Score,\n",
    "       COUNT(*) AS User_Count\n",
    "FROM student_ai_usage\n",
    "GROUP BY Preferred_AI_Tool\n",
    "ORDER BY Avg_Trust_Score DESC;\n",
    "\"\"\"\n",
    "\n",
    "df_trust_score = pd.read_sql_query(query2, conn)\n",
    "print(df_trust_score)\n",
    "\n",
    "# Step 3: Save to CSV\n",
    "df_trust_score.to_csv(\"ai_tool_trust_scores.csv\", index=False)"
   ]
  },
  {
   "cell_type": "code",
   "execution_count": 65,
   "id": "a554e31f-0395-4c15-9834-49e1618cb914",
   "metadata": {},
   "outputs": [
    {
     "name": "stdout",
     "output_type": "stream",
     "text": [
      "  Do_Professors_Allow_Use  User_Count\n",
      "0                      No        1886\n",
      "1                     Yes        1728\n"
     ]
    }
   ],
   "source": [
    "#Permission by Professors vs AI Tool Usage\n",
    "import sqlite3\n",
    "import pandas as pd\n",
    "\n",
    "# ✅ Step 1: Reconnect to SQLite\n",
    "conn = sqlite3.connect(\"ai_tool_usage.db\")  # Make sure the DB path is correct\n",
    "\n",
    "# ✅ Step 2: SQL Query for Professor Permission\n",
    "query1 = \"\"\"\n",
    "SELECT Do_Professors_Allow_Use, COUNT(*) AS User_Count\n",
    "FROM student_ai_usage\n",
    "GROUP BY Do_Professors_Allow_Use\n",
    "ORDER BY User_Count DESC;\n",
    "\"\"\"\n",
    "\n",
    "# ✅ Step 3: Run query\n",
    "df_permission = pd.read_sql_query(query1, conn)\n",
    "\n",
    "# ✅ Step 4: Show result\n",
    "print(df_permission)\n",
    "\n",
    "# ✅ Step 5 (Optional): Export to CSV\n",
    "df_permission.to_csv(\"professors_allow_analysis.csv\", index=False)"
   ]
  },
  {
   "cell_type": "code",
   "execution_count": 66,
   "id": "040f15e4-960b-4efd-a097-3d4556795f34",
   "metadata": {},
   "outputs": [
    {
     "name": "stdout",
     "output_type": "stream",
     "text": [
      "    Awareness_Level  Trust_in_AI_Tools  User_Count\n",
      "0                 1                  1          57\n",
      "1                 1                  2          46\n",
      "2                 1                  3          91\n",
      "3                 1                  4          54\n",
      "4                 1                  5          64\n",
      "5                 2                  1          77\n",
      "6                 2                  2          83\n",
      "7                 2                  3          68\n",
      "8                 2                  4          46\n",
      "9                 2                  5          73\n",
      "10                3                  1          94\n",
      "11                3                  2          64\n",
      "12                3                  3          83\n",
      "13                3                  4          61\n",
      "14                3                  5          60\n",
      "15                4                  1          54\n",
      "16                4                  2          49\n",
      "17                4                  3          54\n",
      "18                4                  4          54\n",
      "19                4                  5          64\n",
      "20                5                  1          71\n",
      "21                5                  2          65\n",
      "22                5                  3          53\n",
      "23                5                  4          61\n",
      "24                5                  5          52\n",
      "25                6                  1          56\n",
      "26                6                  2          79\n",
      "27                6                  3          68\n",
      "28                6                  4          69\n",
      "29                6                  5          85\n",
      "30                7                  1          63\n",
      "31                7                  2          77\n",
      "32                7                  3          80\n",
      "33                7                  4          83\n",
      "34                7                  5          82\n",
      "35                8                  1          59\n",
      "36                8                  2          95\n",
      "37                8                  3          51\n",
      "38                8                  4          59\n",
      "39                8                  5         112\n",
      "40                9                  1          98\n",
      "41                9                  2         106\n",
      "42                9                  3          74\n",
      "43                9                  4          62\n",
      "44                9                  5         123\n",
      "45               10                  1          85\n",
      "46               10                  2          86\n",
      "47               10                  3          63\n",
      "48               10                  4         119\n",
      "49               10                  5          82\n"
     ]
    }
   ],
   "source": [
    "# Awareness Level vs Trust in AI Tools\n",
    "query3 = \"\"\"\n",
    "SELECT Awareness_Level, Trust_in_AI_Tools, COUNT(*) AS User_Count\n",
    "FROM student_ai_usage\n",
    "GROUP BY Awareness_Level, Trust_in_AI_Tools\n",
    "ORDER BY Awareness_Level, Trust_in_AI_Tools;\n",
    "\"\"\"\n",
    "\n",
    "# Step 3: Run query\n",
    "df_awareness_trust = pd.read_sql_query(query3, conn)\n",
    "\n",
    "# Step 4: Show result\n",
    "print(df_awareness_trust)\n",
    "\n",
    "# Step 5 (Optional): Export for Tableau\n",
    "df_awareness_trust.to_csv(\"awareness_vs_trust.csv\", index=False) \n"
   ]
  },
  {
   "cell_type": "code",
   "execution_count": 67,
   "id": "af25b378-b181-48a9-a229-a09319716b00",
   "metadata": {},
   "outputs": [
    {
     "name": "stdout",
     "output_type": "stream",
     "text": [
      "              Stream Preferred_AI_Tool  User_Count\n",
      "0        Agriculture           ChatGPT          61\n",
      "1        Agriculture           Copilot          60\n",
      "2        Agriculture            Gemini          58\n",
      "3        Agriculture             Other          53\n",
      "4        Agriculture              Bard          16\n",
      "5        Agriculture            Claude          14\n",
      "6               Arts            Gemini         127\n",
      "7               Arts           Copilot         100\n",
      "8               Arts           ChatGPT          81\n",
      "9               Arts             Other          67\n",
      "10              Arts            Claude          20\n",
      "11              Arts              Bard          18\n",
      "12          Commerce           ChatGPT          96\n",
      "13          Commerce           Copilot          85\n",
      "14          Commerce             Other          78\n",
      "15          Commerce            Gemini          60\n",
      "16          Commerce            Claude          27\n",
      "17          Commerce              Bard          18\n",
      "18       Engineering            Gemini         161\n",
      "19       Engineering           Copilot         115\n",
      "20       Engineering             Other         107\n",
      "21       Engineering           ChatGPT          85\n",
      "22       Engineering              Bard          21\n",
      "23       Engineering            Claude          16\n",
      "24  Hotel-management           Copilot          82\n",
      "25  Hotel-management           ChatGPT          75\n",
      "26  Hotel-management            Gemini          73\n",
      "27  Hotel-management             Other          67\n",
      "28  Hotel-management            Claude          13\n",
      "29  Hotel-management              Bard           8\n",
      "30               Law             Other          63\n",
      "31               Law           ChatGPT          60\n",
      "32               Law           Copilot          55\n",
      "33               Law            Gemini          44\n",
      "34               Law            Claude          13\n",
      "35               Law              Bard          11\n",
      "36        Management           ChatGPT         106\n",
      "37        Management           Copilot          91\n",
      "38        Management             Other          76\n",
      "39        Management            Gemini          73\n",
      "40        Management            Claude          20\n",
      "41        Management              Bard          14\n",
      "42           Medical           Copilot          70\n",
      "43           Medical             Other          67\n",
      "44           Medical            Gemini          63\n",
      "45           Medical           ChatGPT          62\n",
      "46           Medical              Bard          12\n",
      "47           Medical            Claude           7\n",
      "48          Pharmacy            Gemini          73\n",
      "49          Pharmacy             Other          56\n",
      "50          Pharmacy           ChatGPT          49\n",
      "51          Pharmacy           Copilot          48\n",
      "52          Pharmacy              Bard          14\n",
      "53          Pharmacy            Claude          12\n",
      "54           Science           ChatGPT         184\n",
      "55           Science           Copilot         130\n",
      "56           Science             Other         123\n",
      "57           Science            Gemini         122\n",
      "58           Science              Bard          19\n",
      "59           Science            Claude          15\n"
     ]
    }
   ],
   "source": [
    "#Most Preferred AI Tool by Stream\n",
    "# Step 1: SQL Query - Stream vs Preferred AI Tool\n",
    "query4 = \"\"\"\n",
    "SELECT Stream, Preferred_AI_Tool, COUNT(*) AS User_Count\n",
    "FROM student_ai_usage\n",
    "GROUP BY Stream, Preferred_AI_Tool\n",
    "ORDER BY Stream, User_Count DESC;\n",
    "\"\"\"\n",
    "\n",
    "# Step 2: Run query\n",
    "df_stream_tool = pd.read_sql_query(query4, conn)\n",
    "\n",
    "# Step 3: View result\n",
    "print(df_stream_tool)\n",
    "\n",
    "# Step 4 (Optional): Export to CSV for Tableau\n",
    "df_stream_tool.to_csv(\"stream_vs_preferred_tool.csv\", index=False)\n"
   ]
  },
  {
   "cell_type": "code",
   "execution_count": 68,
   "id": "a1e6e563-bd0e-414a-b7bb-1544204591f7",
   "metadata": {},
   "outputs": [
    {
     "name": "stdout",
     "output_type": "stream",
     "text": [
      "  Device_Used  Avg_Usage_Hours  User_Count\n",
      "0      Laptop             2.60        1336\n",
      "1      Mobile             2.56        1086\n",
      "2      Tablet             2.51        1192\n"
     ]
    }
   ],
   "source": [
    "#Daily AI Usage by Device Type\n",
    "# Step 1: SQL Query - Daily Usage Hours by Device Used\n",
    "query5 = \"\"\"\n",
    "SELECT Device_Used, ROUND(AVG(Daily_Usage_Hours), 2) AS Avg_Usage_Hours, COUNT(*) AS User_Count\n",
    "FROM student_ai_usage\n",
    "GROUP BY Device_Used\n",
    "ORDER BY Avg_Usage_Hours DESC;\n",
    "\"\"\"\n",
    "\n",
    "# Step 2: Run query\n",
    "df_device_usage = pd.read_sql_query(query5, conn)\n",
    "\n",
    "# Step 3: View result\n",
    "print(df_device_usage)\n",
    "\n",
    "# Step 4 (Optional): Export to CSV for Tableau\n",
    "df_device_usage.to_csv(\"device_vs_avg_usage.csv\", index=False)\n"
   ]
  },
  {
   "cell_type": "code",
   "execution_count": 69,
   "id": "d81c48f5-5def-4c91-8a07-516956c5d372",
   "metadata": {},
   "outputs": [
    {
     "name": "stdout",
     "output_type": "stream",
     "text": [
      "   Trust_in_AI_Tools Willing_to_Pay_for_Access  User_Count\n",
      "0                  1                        No         371\n",
      "1                  1                       Yes         343\n",
      "2                  2                        No         370\n",
      "3                  2                       Yes         380\n",
      "4                  3                        No         344\n",
      "5                  3                       Yes         341\n",
      "6                  4                        No         308\n",
      "7                  4                       Yes         360\n",
      "8                  5                        No         418\n",
      "9                  5                       Yes         379\n"
     ]
    }
   ],
   "source": [
    "#Trust in AI Tools vs Willingness to Pay\n",
    "# Step 1: SQL Query - Trust vs Willingness to Pay\n",
    "query6 = \"\"\"\n",
    "SELECT Trust_in_AI_Tools, Willing_to_Pay_for_Access, COUNT(*) AS User_Count\n",
    "FROM student_ai_usage\n",
    "GROUP BY Trust_in_AI_Tools, Willing_to_Pay_for_Access\n",
    "ORDER BY Trust_in_AI_Tools;\n",
    "\"\"\"\n",
    "\n",
    "# Step 2: Run query\n",
    "df_trust_pay = pd.read_sql_query(query6, conn)\n",
    "\n",
    "# Step 3: View result\n",
    "print(df_trust_pay)\n",
    "\n",
    "# Step 4 (Optional): Export for Tableau\n",
    "df_trust_pay.to_csv(\"trust_vs_pay.csv\", index=False)\n"
   ]
  },
  {
   "cell_type": "code",
   "execution_count": 70,
   "id": "1f162e67-0685-4c0e-b77b-2a8ab5c0db96",
   "metadata": {},
   "outputs": [
    {
     "name": "stdout",
     "output_type": "stream",
     "text": [
      "    Impact_on_Grades  User_Count\n",
      "0                  2         523\n",
      "1                  1         477\n",
      "2                  0         465\n",
      "3                 -3         463\n",
      "4                 -1         446\n",
      "5                 -2         445\n",
      "6                  3         419\n",
      "7                 -4         110\n",
      "8                  4          93\n",
      "9                  5          89\n",
      "10                -5          84\n"
     ]
    }
   ],
   "source": [
    "#AI Tool Usage Impact on Grades\n",
    "# Step 1: SQL Query - Impact on Grades\n",
    "query7 = \"\"\"\n",
    "SELECT Impact_on_Grades, COUNT(*) AS User_Count\n",
    "FROM student_ai_usage\n",
    "GROUP BY Impact_on_Grades\n",
    "ORDER BY User_Count DESC;\n",
    "\"\"\"\n",
    "\n",
    "# Step 2: Run query\n",
    "df_grade_impact = pd.read_sql_query(query7, conn)\n",
    "\n",
    "# Step 3: View result\n",
    "print(df_grade_impact)\n",
    "\n",
    "# Step 4 (Optional): Export for Tableau\n",
    "df_grade_impact.to_csv(\"ai_impact_on_grades.csv\", index=False)\n"
   ]
  },
  {
   "cell_type": "code",
   "execution_count": 71,
   "id": "57a0cea9-f6df-44d3-8ce1-aebc6d62c149",
   "metadata": {},
   "outputs": [
    {
     "name": "stdout",
     "output_type": "stream",
     "text": [
      "         Stream  Awareness_Level  User_Count\n",
      "0   Agriculture                1          21\n",
      "1   Agriculture                2          24\n",
      "2   Agriculture                3          22\n",
      "3   Agriculture                4          19\n",
      "4   Agriculture                5          24\n",
      "..          ...              ...         ...\n",
      "95      Science                6          39\n",
      "96      Science                7          59\n",
      "97      Science                8          84\n",
      "98      Science                9          36\n",
      "99      Science               10          71\n",
      "\n",
      "[100 rows x 3 columns]\n"
     ]
    }
   ],
   "source": [
    "#Awareness Level by Stream\n",
    "# Step 1: SQL Query - Awareness Level by Stream\n",
    "query8 = \"\"\"\n",
    "SELECT Stream, Awareness_Level, COUNT(*) AS User_Count\n",
    "FROM student_ai_usage\n",
    "GROUP BY Stream, Awareness_Level\n",
    "ORDER BY Stream, Awareness_Level;\n",
    "\"\"\"\n",
    "\n",
    "# Step 2: Run query\n",
    "df_awareness_stream = pd.read_sql_query(query8, conn)\n",
    "\n",
    "# Step 3: View result\n",
    "print(df_awareness_stream)\n",
    "\n",
    "# Step 4 (Optional): Export for Tableau\n",
    "df_awareness_stream.to_csv(\"awareness_by_stream.csv\", index=False)\n"
   ]
  },
  {
   "cell_type": "code",
   "execution_count": 72,
   "id": "83e5b9ca-d8a9-4418-a944-da8e406f6e9e",
   "metadata": {},
   "outputs": [
    {
     "name": "stdout",
     "output_type": "stream",
     "text": [
      "Connection closed.\n"
     ]
    }
   ],
   "source": [
    "# Close the SQLite connection\n",
    "conn.close()\n",
    "print(\"Connection closed.\")\n"
   ]
  },
  {
   "cell_type": "code",
   "execution_count": null,
   "id": "a80db8ed-7168-4534-ba13-c2b2892f1764",
   "metadata": {},
   "outputs": [],
   "source": []
  }
 ],
 "metadata": {
  "kernelspec": {
   "display_name": "Python 3 (ipykernel)",
   "language": "python",
   "name": "python3"
  },
  "language_info": {
   "codemirror_mode": {
    "name": "ipython",
    "version": 3
   },
   "file_extension": ".py",
   "mimetype": "text/x-python",
   "name": "python",
   "nbconvert_exporter": "python",
   "pygments_lexer": "ipython3",
   "version": "3.12.7"
  }
 },
 "nbformat": 4,
 "nbformat_minor": 5
}
